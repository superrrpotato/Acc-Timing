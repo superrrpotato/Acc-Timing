{
 "cells": [
  {
   "cell_type": "code",
   "execution_count": 29,
   "metadata": {},
   "outputs": [],
   "source": [
    "import numpy as np\n",
    "import matplotlib.pyplot as plt\n",
    "%matplotlib inline\n",
    "time_step = 100\n",
    "input_num = 300\n",
    "adjust_steps = 500\n",
    "\n",
    "total_rounds = 100\n",
    "\n",
    "tau_i_input = 2 * np.ones(input_num)\n",
    "tau_i_output = 2\n",
    "tau_u = 5\n",
    "\n",
    "i_input_decay = (1-1/tau_i_input)\n",
    "i_output_decay = (1-1/tau_i_output)\n",
    "u_decay = (1-1/tau_u)\n",
    "\n",
    "def smooth(x, decay):\n",
    "    if len(x.shape)==1:\n",
    "        x = x.reshape(1,len(x))\n",
    "    x = x.astype(float)\n",
    "    x_smooth = np.zeros_like(x)\n",
    "    x_smooth[:,0]=x[:,0]/(1/(1-decay))\n",
    "    for i in range(len(x[0])-1):\n",
    "        x_smooth[:,i+1] = x_smooth[:,i]*decay + x[:,i+1].astype(float)/(1/(1-decay))\n",
    "    return x_smooth\n",
    "def sigmoid(x,temp):\n",
    "    exp = np.clip(-x/temp, -10, 10)\n",
    "    return 1 / (1 + np.exp(exp))\n",
    "\n",
    "\n",
    "total_time_loss_record = np.zeros((total_rounds, adjust_steps))\n",
    "total_surr_loss_record = np.zeros((total_rounds, adjust_steps))\n",
    "\n",
    "u = np.zeros(time_step)\n",
    "delta_u = np.zeros(time_step)\n",
    "output = np.zeros(time_step)\n",
    "def gen_partial_a(delta):\n",
    "    partial_a = np.zeros((time_step, time_step))\n",
    "    for t in range(time_step):\n",
    "        if t > 0:\n",
    "            partial_a[t] = partial_a[t - 1] - partial_a[t - 1] / tau_i_output\n",
    "        partial_a[t, t] = 1/tau_i_output\n",
    "    for t in range(time_step):\n",
    "        if delta[t] <= 0:\n",
    "            partial_a[t, t] = 0\n",
    "        else:\n",
    "            partial_a[t, t] = -1\n",
    "    return partial_a\n",
    "    \n",
    "partial_a_0 = np.zeros((time_step, time_step))\n",
    "for t in range(time_step):\n",
    "    if t > 0:\n",
    "        partial_a_0[t] = partial_a_0[t - 1] - partial_a_0[t - 1] / tau_i_output\n",
    "    partial_a_0[t, t] = 1/tau_i_output\n",
    "\n",
    "threshold = 1\n",
    "temp = 0.2\n"
   ]
  },
  {
   "cell_type": "code",
   "execution_count": 30,
   "metadata": {},
   "outputs": [
    {
     "name": "stdout",
     "output_type": "stream",
     "text": [
      "0.0 %\n",
      "10.0 %\n",
      "20.0 %\n",
      "30.0 %\n",
      "40.0 %\n",
      "50.0 %\n",
      "60.0 %\n",
      "70.0 %\n",
      "80.0 %\n",
      "90.0 %\n"
     ]
    }
   ],
   "source": [
    "for rounds in range(total_rounds):\n",
    "    if rounds%10 == 0:\n",
    "        print(rounds/total_rounds*100, '%')\n",
    "    a = np.random.randint(0,30, size=(input_num,time_step))\n",
    "    a = (a==0).astype(float)\n",
    "    a_smooth = smooth(a, i_input_decay)\n",
    "    \n",
    "    time_loss_record = np.zeros(adjust_steps)\n",
    "\n",
    "    weights = (np.random.random(size=input_num)-0.2) *0.1\n",
    "    desired_output = np.random.randint(0,20,size=(1,time_step))\n",
    "    desired_output = (desired_output == 0).astype(float)\n",
    "    desired_output_smooth = smooth(desired_output, i_output_decay)\n",
    "\n",
    "\n",
    "    i_input_decay = (1-1/tau_i_input)\n",
    "    i_output_decay = (1-1/tau_i_output)\n",
    "    u_decay = (1-1/tau_u)\n",
    "    lr = 0.005\n",
    "    for i in range(adjust_steps):\n",
    "        lr *= 0.996\n",
    "        # Forward\n",
    "        output = np.zeros(time_step)\n",
    "        u[0] = delta_u[0] = u_temp = np.dot(weights, a_smooth[:,0])\n",
    "\n",
    "        if u[0] > threshold:\n",
    "            u_temp = 0\n",
    "            output[0] = 1\n",
    "        for j in range(time_step-1):\n",
    "            u[j+1] = u_temp * u_decay + np.dot(weights,a_smooth[:,j+1])\n",
    "            delta_u[j+1] = u[j+1] - u[j]\n",
    "            if u[j+1] > threshold:\n",
    "                u_temp = 0\n",
    "                output[j+1] = 1\n",
    "            else:\n",
    "                u_temp = u[j+1]\n",
    "        output_smooth = smooth(output, i_output_decay)\n",
    "\n",
    "        # Backward\n",
    "        # Calculate weight's gradient\n",
    "        delta_0 = (output_smooth-desired_output_smooth)[0]\n",
    "        partial_a = gen_partial_a(delta_0)\n",
    "        delta = delta_0.dot(partial_a)\n",
    "\n",
    "        time_loss_record[i] = np.sum((output_smooth-desired_output_smooth)[0]**2)\n",
    "        sig = sigmoid(u-threshold, temp)\n",
    "        grad = delta_0.dot(partial_a_0)*(sig*(1-sig))/temp\n",
    "        for g in range(len(grad)-2, -1, -1):\n",
    "            grad[g] += grad[g+1] * u_decay * (1 - output[g])\n",
    "        grad_w = grad.dot(a_smooth.T)\n",
    "        timing_grad = np.clip((-1/np.array(delta_u)), -0.5, 0) * output\n",
    "        new_grad = delta * timing_grad * sig\n",
    "        new_grad_w = new_grad.dot(a_smooth.T)\n",
    "\n",
    "        # Move Step\n",
    "        weights = weights - lr * (grad_w + new_grad_w)\n",
    "    total_time_loss_record[rounds] = time_loss_record"
   ]
  },
  {
   "cell_type": "code",
   "execution_count": 31,
   "metadata": {},
   "outputs": [
    {
     "name": "stdout",
     "output_type": "stream",
     "text": [
      "0.0 %\n",
      "10.0 %\n",
      "20.0 %\n",
      "30.0 %\n",
      "40.0 %\n",
      "50.0 %\n",
      "60.0 %\n",
      "70.0 %\n",
      "80.0 %\n",
      "90.0 %\n"
     ]
    }
   ],
   "source": [
    "for rounds in range(total_rounds):\n",
    "    if rounds%10 == 0:\n",
    "        print(rounds/total_rounds*100, '%')\n",
    "    a = np.random.randint(0,30, size=(input_num,time_step))\n",
    "    a = (a==0).astype(float)\n",
    "    a_smooth = smooth(a, i_input_decay)\n",
    "    \n",
    "    surr_loss_record = np.zeros(adjust_steps)\n",
    "\n",
    "    weights = (np.random.random(size=input_num)-0.2) *0.1\n",
    "    desired_output = np.random.randint(0,20,size=(1,time_step))\n",
    "    desired_output = (desired_output == 0).astype(float)\n",
    "    desired_output_smooth = smooth(desired_output, i_output_decay)\n",
    "\n",
    "\n",
    "    i_input_decay = (1-1/tau_i_input)\n",
    "    i_output_decay = (1-1/tau_i_output)\n",
    "    u_decay = (1-1/tau_u)\n",
    "    lr = 0.005\n",
    "    for i in range(adjust_steps):\n",
    "        lr *= 0.996\n",
    "        # Forward\n",
    "        output = np.zeros(time_step)\n",
    "        u[0] = delta_u[0] = u_temp = np.dot(weights, a_smooth[:,0])\n",
    "\n",
    "        if u[0] > threshold:\n",
    "            u_temp = 0\n",
    "            output[0] = 1\n",
    "        for j in range(time_step-1):\n",
    "            u[j+1] = u_temp * u_decay + np.dot(weights,a_smooth[:,j+1])\n",
    "            delta_u[j+1] = u[j+1] - u[j]\n",
    "            if u[j+1] > threshold:\n",
    "                u_temp = 0\n",
    "                output[j+1] = 1\n",
    "            else:\n",
    "                u_temp = u[j+1]\n",
    "        output_smooth = smooth(output, i_output_decay)\n",
    "\n",
    "        # Backward\n",
    "        # Calculate weight's gradient\n",
    "        delta_0 = (output_smooth-desired_output_smooth)[0]\n",
    "        partial_a = gen_partial_a(delta_0)\n",
    "        delta = delta_0.dot(partial_a)\n",
    "\n",
    "        surr_loss_record[i] = np.sum((output_smooth-desired_output_smooth)[0]**2)\n",
    "        sig = sigmoid(u-threshold, temp)\n",
    "        grad = delta_0.dot(partial_a_0)*(sig*(1-sig))/temp\n",
    "        for g in range(len(grad)-2, -1, -1):\n",
    "            grad[g] += grad[g+1] * u_decay * (1 - output[g])\n",
    "        grad_w = grad.dot(a_smooth.T)\n",
    "        # Move Step\n",
    "        weights = weights - lr * (grad_w)\n",
    "    total_surr_loss_record[rounds] = surr_loss_record"
   ]
  },
  {
   "cell_type": "code",
   "execution_count": 32,
   "metadata": {},
   "outputs": [
    {
     "data": {
      "text/plain": [
       "[<matplotlib.lines.Line2D at 0x1124b7400>]"
      ]
     },
     "execution_count": 32,
     "metadata": {},
     "output_type": "execute_result"
    },
    {
     "data": {
      "image/png": "[encoded data removed]",
      "text/plain": [
       "<Figure size 432x288 with 1 Axes>"
      ]
     },
     "metadata": {
      "needs_background": "light"
     },
     "output_type": "display_data"
    }
   ],
   "source": [
    "plt.yscale('log')\n",
    "plt.plot((np.sum(total_time_loss_record, axis=0)/total_rounds), c='g')\n",
    "plt.plot((np.sum(total_surr_loss_record, axis=0)/total_rounds), c='r')"
   ]
  },
  {
   "cell_type": "code",
   "execution_count": null,
   "metadata": {},
   "outputs": [],
   "source": []
  }
 ],
 "metadata": {
  "kernelspec": {
   "display_name": "Python 3",
   "language": "python",
   "name": "python3"
  },
  "language_info": {
   "codemirror_mode": {
    "name": "ipython",
    "version": 3
   },
   "file_extension": ".py",
   "mimetype": "text/x-python",
   "name": "python",
   "nbconvert_exporter": "python",
   "pygments_lexer": "ipython3",
   "version": "3.7.1"
  }
 },
 "nbformat": 4,
 "nbformat_minor": 2
}
